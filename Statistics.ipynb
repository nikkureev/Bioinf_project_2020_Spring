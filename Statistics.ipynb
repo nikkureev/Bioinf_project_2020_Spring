{
 "cells": [
  {
   "cell_type": "code",
   "execution_count": 1,
   "metadata": {},
   "outputs": [],
   "source": [
    "import numpy as np\n",
    "from scipy.stats import mannwhitneyu "
   ]
  },
  {
   "cell_type": "code",
   "execution_count": 4,
   "metadata": {},
   "outputs": [],
   "source": [
    "KK_1=[2.52, 0.67, 1.68, 0.28, 0.02, 0.43, 0.85, 0.01, 0.03, 0.01, 0.03, 0.39, 1.79, 14.31]\n",
    "KK_2=[ 2.49, 0.65, 1.67, 0.25, 0.02, 0.42, 0.86, 0.01, 0.03, 0.01, 0.03, 0.45, 1.79, 14.35]"
   ]
  },
  {
   "cell_type": "code",
   "execution_count": 7,
   "metadata": {},
   "outputs": [
    {
     "name": "stdout",
     "output_type": "stream",
     "text": [
      "Statistics= 98.0 p_value= 0.4908078611295083\n",
      "Fail to reject H0\n"
     ]
    }
   ],
   "source": [
    "stat, p_value = mannwhitneyu(np.array(KK_1), np.array(KK_2))\n",
    "print(\"Statistics=\",stat, \"p_value=\", p_value)\n",
    "alpha = 0.05\n",
    "if p_value > alpha:\n",
    "    print('Fail to reject H0')\n",
    "else:\n",
    "    print('Reject H0')"
   ]
  },
  {
   "cell_type": "code",
   "execution_count": null,
   "metadata": {},
   "outputs": [],
   "source": []
  }
 ],
 "metadata": {
  "kernelspec": {
   "display_name": "Python 3",
   "language": "python",
   "name": "python3"
  },
  "language_info": {
   "codemirror_mode": {
    "name": "ipython",
    "version": 3
   },
   "file_extension": ".py",
   "mimetype": "text/x-python",
   "name": "python",
   "nbconvert_exporter": "python",
   "pygments_lexer": "ipython3",
   "version": "3.7.4"
  }
 },
 "nbformat": 4,
 "nbformat_minor": 2
}
